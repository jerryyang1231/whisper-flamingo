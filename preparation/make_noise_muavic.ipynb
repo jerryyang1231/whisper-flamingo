{
 "cells": [
  {
   "cell_type": "markdown",
   "metadata": {},
   "source": [
    "# Generate the multilingual noise for MuAViC"
   ]
  },
  {
   "cell_type": "code",
   "execution_count": 1,
   "metadata": {},
   "outputs": [],
   "source": [
    "import os\n",
    "import numpy as np\n",
    "from scipy.io import wavfile\n",
    "from tqdm import tqdm\n",
    "import IPython"
   ]
  },
  {
   "cell_type": "code",
   "execution_count": 2,
   "metadata": {},
   "outputs": [],
   "source": [
    "muavic_root = '/data/sls/scratch/roudi/datasets/muavic/'\n",
    "langs = ['en', 'ar', 'de', 'el', 'es', 'fr', 'it', 'pt', 'ru']\n",
    "num_samples = 30\n",
    "sample_rate = 16_000\n",
    "min_len = 15*sample_rate"
   ]
  },
  {
   "cell_type": "code",
   "execution_count": 3,
   "metadata": {},
   "outputs": [],
   "source": [
    "def mix_audio(wav_fns):\n",
    "    wav_data = [wavfile.read(wav_fn)[1] for wav_fn in wav_fns]\n",
    "    wav_data_ = []\n",
    "    min_len = min([len(x) for x in wav_data])\n",
    "    for item in wav_data:\n",
    "        wav_data_.append(item[:min_len])\n",
    "    wav_data = np.stack(wav_data_).mean(axis=0).astype(np.int16)\n",
    "    return wav_data"
   ]
  },
  {
   "cell_type": "markdown",
   "metadata": {},
   "source": [
    "# Generate multilingual babble (30 speakers, random langs)"
   ]
  },
  {
   "cell_type": "code",
   "execution_count": 4,
   "metadata": {},
   "outputs": [],
   "source": [
    "def mix_audio_all(langs, num_samples, min_len):\n",
    "    lang_to_fns = {lang:[] for lang in langs}\n",
    "    for lang in langs:\n",
    "        tsv_fn = os.path.join(muavic_root, 'muavic', lang, 'train.tsv')\n",
    "        lns = open(tsv_fn).readlines()[1:]\n",
    "        wav_fns = [(ln.strip().split('\\t')[2], int(ln.strip().split('\\t')[-1])) for ln in lns]\n",
    "        wav_fns = list(filter(lambda x: x[1]>min_len, wav_fns))\n",
    "        indexes = np.random.permutation(len(wav_fns))[:num_samples]\n",
    "        wav_fns = [wav_fns[i][0] for i in indexes]\n",
    "        lang_to_fns[lang] = wav_fns\n",
    "    counter = 0\n",
    "    multi_fns = []\n",
    "    while counter < num_samples:\n",
    "        for lang in langs:\n",
    "            multi_fns.append(lang_to_fns[lang].pop())\n",
    "            counter += 1\n",
    "            if len(multi_fns) == num_samples: \n",
    "                break \n",
    "\n",
    "    print(len(multi_fns))\n",
    "    for fn in multi_fns:\n",
    "        print(fn)\n",
    "    wav_data = mix_audio(multi_fns)\n",
    "    return wav_data"
   ]
  },
  {
   "cell_type": "code",
   "execution_count": 5,
   "metadata": {},
   "outputs": [
    {
     "ename": "FileNotFoundError",
     "evalue": "[Errno 2] No such file or directory: '/data/sls/scratch/roudi/datasets/muavic/muavic/en/train.tsv'",
     "output_type": "error",
     "traceback": [
      "\u001b[0;31m---------------------------------------------------------------------------\u001b[0m",
      "\u001b[0;31mFileNotFoundError\u001b[0m                         Traceback (most recent call last)",
      "Cell \u001b[0;32mIn[5], line 4\u001b[0m\n\u001b[1;32m      1\u001b[0m multilingual_tsvs \u001b[38;5;241m=\u001b[39m [os\u001b[38;5;241m.\u001b[39mpath\u001b[38;5;241m.\u001b[39mjoin(muavic_root, \u001b[38;5;124m'\u001b[39m\u001b[38;5;124mnoise\u001b[39m\u001b[38;5;124m'\u001b[39m, \u001b[38;5;124m'\u001b[39m\u001b[38;5;124mtsv\u001b[39m\u001b[38;5;124m'\u001b[39m, \u001b[38;5;124m'\u001b[39m\u001b[38;5;124mbabble_multilingual\u001b[39m\u001b[38;5;124m'\u001b[39m, \u001b[38;5;124m'\u001b[39m\u001b[38;5;124mvalid.tsv\u001b[39m\u001b[38;5;124m'\u001b[39m), \n\u001b[1;32m      2\u001b[0m                      os\u001b[38;5;241m.\u001b[39mpath\u001b[38;5;241m.\u001b[39mjoin(muavic_root, \u001b[38;5;124m'\u001b[39m\u001b[38;5;124mnoise\u001b[39m\u001b[38;5;124m'\u001b[39m, \u001b[38;5;124m'\u001b[39m\u001b[38;5;124mtsv\u001b[39m\u001b[38;5;124m'\u001b[39m, \u001b[38;5;124m'\u001b[39m\u001b[38;5;124mbabble_multilingual\u001b[39m\u001b[38;5;124m'\u001b[39m, \u001b[38;5;124m'\u001b[39m\u001b[38;5;124mtest.tsv\u001b[39m\u001b[38;5;124m'\u001b[39m)]\n\u001b[0;32m----> 4\u001b[0m mixed \u001b[38;5;241m=\u001b[39m \u001b[43mmix_audio_all\u001b[49m\u001b[43m(\u001b[49m\u001b[43mlangs\u001b[49m\u001b[43m,\u001b[49m\u001b[43m \u001b[49m\u001b[43mnum_samples\u001b[49m\u001b[38;5;241;43m=\u001b[39;49m\u001b[38;5;241;43m30\u001b[39;49m\u001b[43m,\u001b[49m\u001b[43m \u001b[49m\u001b[43mmin_len\u001b[49m\u001b[38;5;241;43m=\u001b[39;49m\u001b[38;5;241;43m15\u001b[39;49m\u001b[38;5;241;43m*\u001b[39;49m\u001b[43msample_rate\u001b[49m\u001b[43m)\u001b[49m\n\u001b[1;32m      5\u001b[0m IPython\u001b[38;5;241m.\u001b[39mdisplay\u001b[38;5;241m.\u001b[39mdisplay(IPython\u001b[38;5;241m.\u001b[39mdisplay\u001b[38;5;241m.\u001b[39mAudio(data\u001b[38;5;241m=\u001b[39mmixed, rate\u001b[38;5;241m=\u001b[39m\u001b[38;5;241m16_000\u001b[39m))\n\u001b[1;32m      7\u001b[0m output_wav \u001b[38;5;241m=\u001b[39m os\u001b[38;5;241m.\u001b[39mpath\u001b[38;5;241m.\u001b[39mjoin(muavic_root, \u001b[38;5;124m'\u001b[39m\u001b[38;5;124mnoise\u001b[39m\u001b[38;5;124m'\u001b[39m, \u001b[38;5;124m'\u001b[39m\u001b[38;5;124mbabble\u001b[39m\u001b[38;5;124m'\u001b[39m, \u001b[38;5;124m'\u001b[39m\u001b[38;5;124mbabble_all_2nd.wav\u001b[39m\u001b[38;5;124m'\u001b[39m)\n",
      "Cell \u001b[0;32mIn[4], line 5\u001b[0m, in \u001b[0;36mmix_audio_all\u001b[0;34m(langs, num_samples, min_len)\u001b[0m\n\u001b[1;32m      3\u001b[0m \u001b[38;5;28;01mfor\u001b[39;00m lang \u001b[38;5;129;01min\u001b[39;00m langs:\n\u001b[1;32m      4\u001b[0m     tsv_fn \u001b[38;5;241m=\u001b[39m os\u001b[38;5;241m.\u001b[39mpath\u001b[38;5;241m.\u001b[39mjoin(muavic_root, \u001b[38;5;124m'\u001b[39m\u001b[38;5;124mmuavic\u001b[39m\u001b[38;5;124m'\u001b[39m, lang, \u001b[38;5;124m'\u001b[39m\u001b[38;5;124mtrain.tsv\u001b[39m\u001b[38;5;124m'\u001b[39m)\n\u001b[0;32m----> 5\u001b[0m     lns \u001b[38;5;241m=\u001b[39m \u001b[38;5;28;43mopen\u001b[39;49m\u001b[43m(\u001b[49m\u001b[43mtsv_fn\u001b[49m\u001b[43m)\u001b[49m\u001b[38;5;241m.\u001b[39mreadlines()[\u001b[38;5;241m1\u001b[39m:]\n\u001b[1;32m      6\u001b[0m     wav_fns \u001b[38;5;241m=\u001b[39m [(ln\u001b[38;5;241m.\u001b[39mstrip()\u001b[38;5;241m.\u001b[39msplit(\u001b[38;5;124m'\u001b[39m\u001b[38;5;130;01m\\t\u001b[39;00m\u001b[38;5;124m'\u001b[39m)[\u001b[38;5;241m2\u001b[39m], \u001b[38;5;28mint\u001b[39m(ln\u001b[38;5;241m.\u001b[39mstrip()\u001b[38;5;241m.\u001b[39msplit(\u001b[38;5;124m'\u001b[39m\u001b[38;5;130;01m\\t\u001b[39;00m\u001b[38;5;124m'\u001b[39m)[\u001b[38;5;241m-\u001b[39m\u001b[38;5;241m1\u001b[39m])) \u001b[38;5;28;01mfor\u001b[39;00m ln \u001b[38;5;129;01min\u001b[39;00m lns]\n\u001b[1;32m      7\u001b[0m     wav_fns \u001b[38;5;241m=\u001b[39m \u001b[38;5;28mlist\u001b[39m(\u001b[38;5;28mfilter\u001b[39m(\u001b[38;5;28;01mlambda\u001b[39;00m x: x[\u001b[38;5;241m1\u001b[39m]\u001b[38;5;241m>\u001b[39mmin_len, wav_fns))\n",
      "File \u001b[0;32m/share/nas169/jerryyang/miniconda3/envs/whisper/lib/python3.9/site-packages/IPython/core/interactiveshell.py:310\u001b[0m, in \u001b[0;36m_modified_open\u001b[0;34m(file, *args, **kwargs)\u001b[0m\n\u001b[1;32m    303\u001b[0m \u001b[38;5;28;01mif\u001b[39;00m file \u001b[38;5;129;01min\u001b[39;00m {\u001b[38;5;241m0\u001b[39m, \u001b[38;5;241m1\u001b[39m, \u001b[38;5;241m2\u001b[39m}:\n\u001b[1;32m    304\u001b[0m     \u001b[38;5;28;01mraise\u001b[39;00m \u001b[38;5;167;01mValueError\u001b[39;00m(\n\u001b[1;32m    305\u001b[0m         \u001b[38;5;124mf\u001b[39m\u001b[38;5;124m\"\u001b[39m\u001b[38;5;124mIPython won\u001b[39m\u001b[38;5;124m'\u001b[39m\u001b[38;5;124mt let you open fd=\u001b[39m\u001b[38;5;132;01m{\u001b[39;00mfile\u001b[38;5;132;01m}\u001b[39;00m\u001b[38;5;124m by default \u001b[39m\u001b[38;5;124m\"\u001b[39m\n\u001b[1;32m    306\u001b[0m         \u001b[38;5;124m\"\u001b[39m\u001b[38;5;124mas it is likely to crash IPython. If you know what you are doing, \u001b[39m\u001b[38;5;124m\"\u001b[39m\n\u001b[1;32m    307\u001b[0m         \u001b[38;5;124m\"\u001b[39m\u001b[38;5;124myou can use builtins\u001b[39m\u001b[38;5;124m'\u001b[39m\u001b[38;5;124m open.\u001b[39m\u001b[38;5;124m\"\u001b[39m\n\u001b[1;32m    308\u001b[0m     )\n\u001b[0;32m--> 310\u001b[0m \u001b[38;5;28;01mreturn\u001b[39;00m \u001b[43mio_open\u001b[49m\u001b[43m(\u001b[49m\u001b[43mfile\u001b[49m\u001b[43m,\u001b[49m\u001b[43m \u001b[49m\u001b[38;5;241;43m*\u001b[39;49m\u001b[43margs\u001b[49m\u001b[43m,\u001b[49m\u001b[43m \u001b[49m\u001b[38;5;241;43m*\u001b[39;49m\u001b[38;5;241;43m*\u001b[39;49m\u001b[43mkwargs\u001b[49m\u001b[43m)\u001b[49m\n",
      "\u001b[0;31mFileNotFoundError\u001b[0m: [Errno 2] No such file or directory: '/data/sls/scratch/roudi/datasets/muavic/muavic/en/train.tsv'"
     ]
    }
   ],
   "source": [
    "multilingual_tsvs = [os.path.join(muavic_root, 'noise', 'tsv', 'babble_multilingual', 'valid.tsv'), \n",
    "                     os.path.join(muavic_root, 'noise', 'tsv', 'babble_multilingual', 'test.tsv')]\n",
    "\n",
    "mixed = mix_audio_all(langs, num_samples=30, min_len=15*sample_rate)\n",
    "IPython.display.display(IPython.display.Audio(data=mixed, rate=16_000))\n",
    "\n",
    "output_wav = os.path.join(muavic_root, 'noise', 'babble', 'babble_all_2nd.wav')\n",
    "wavfile.write(output_wav, sample_rate, mixed)\n",
    "\n",
    "for tsv in multilingual_tsvs:\n",
    "    os.makedirs(os.path.dirname(tsv), exist_ok=True)\n",
    "    with open(tsv, 'w+') as fo:\n",
    "        fo.write(os.path.abspath(output_wav)+'\\n')"
   ]
  },
  {
   "cell_type": "markdown",
   "metadata": {},
   "source": [
    "The precise list of files used was:\n",
    "/data/sls/scratch/roudi/datasets/muavic/muavic/en/audio/train/tsFKSfItBoE/00011_0.wav\n",
    "/data/sls/scratch/roudi/datasets/muavic/muavic/ar/audio/train/AgoTCRmuWiA/AgoTCRmuWiA_0026.wav\n",
    "/data/sls/scratch/roudi/datasets/muavic/muavic/de/audio/train/6eNxVeS6Cvo/6eNxVeS6Cvo_0037.wav\n",
    "/data/sls/scratch/roudi/datasets/muavic/muavic/el/audio/train/lGJGgz2OB2o/lGJGgz2OB2o_0069.wav\n",
    "/data/sls/scratch/roudi/datasets/muavic/muavic/es/audio/train/Az69dGCXG10/Az69dGCXG10_0066.wav\n",
    "/data/sls/scratch/roudi/datasets/muavic/muavic/fr/audio/train/5OAaHpG1fUI/5OAaHpG1fUI_0048.wav\n",
    "/data/sls/scratch/roudi/datasets/muavic/muavic/it/audio/train/5E3WKFetiUs/5E3WKFetiUs_0055.wav\n",
    "/data/sls/scratch/roudi/datasets/muavic/muavic/pt/audio/train/EZ8xfYRkDTQ/EZ8xfYRkDTQ_0054.wav\n",
    "/data/sls/scratch/roudi/datasets/muavic/muavic/ru/audio/train/N0TkD0BmjV4/N0TkD0BmjV4_0033.wav\n",
    "/data/sls/scratch/roudi/datasets/muavic/muavic/en/audio/train/hBOVuIIQUFc/00008_3.wav\n",
    "/data/sls/scratch/roudi/datasets/muavic/muavic/ar/audio/train/40xEYy37DWM/40xEYy37DWM_0028.wav\n",
    "/data/sls/scratch/roudi/datasets/muavic/muavic/de/audio/train/nPAPM8URceE/nPAPM8URceE_0136.wav\n",
    "/data/sls/scratch/roudi/datasets/muavic/muavic/el/audio/train/B9HIoXVmdAc/B9HIoXVmdAc_0073.wav\n",
    "/data/sls/scratch/roudi/datasets/muavic/muavic/es/audio/train/Vg5sfCX8B8I/Vg5sfCX8B8I_0085.wav\n",
    "/data/sls/scratch/roudi/datasets/muavic/muavic/fr/audio/train/UPc_xK2ZSJs/UPc_xK2ZSJs_0013.wav\n",
    "/data/sls/scratch/roudi/datasets/muavic/muavic/it/audio/train/WIKqmn61mEY/WIKqmn61mEY_0026.wav\n",
    "/data/sls/scratch/roudi/datasets/muavic/muavic/pt/audio/train/jl88rYfvR6A/jl88rYfvR6A_0144.wav\n",
    "/data/sls/scratch/roudi/datasets/muavic/muavic/ru/audio/train/6KVYHOm7a3g/6KVYHOm7a3g_0077.wav\n",
    "/data/sls/scratch/roudi/datasets/muavic/muavic/en/audio/train/rPh3c8Sa37M/00012_7.wav\n",
    "/data/sls/scratch/roudi/datasets/muavic/muavic/ar/audio/train/HaPQY8CsT0g/HaPQY8CsT0g_0017.wav\n",
    "/data/sls/scratch/roudi/datasets/muavic/muavic/de/audio/train/50pno3SGSPc/50pno3SGSPc_0039.wav\n",
    "/data/sls/scratch/roudi/datasets/muavic/muavic/el/audio/train/yb6SuLhQAy8/yb6SuLhQAy8_0013.wav\n",
    "/data/sls/scratch/roudi/datasets/muavic/muavic/es/audio/train/u_694JfFUXA/u_694JfFUXA_0031.wav\n",
    "/data/sls/scratch/roudi/datasets/muavic/muavic/fr/audio/train/EaaXptKfIf0/EaaXptKfIf0_0039.wav\n",
    "/data/sls/scratch/roudi/datasets/muavic/muavic/it/audio/train/DVrbPt91jgg/DVrbPt91jgg_0014.wav\n",
    "/data/sls/scratch/roudi/datasets/muavic/muavic/pt/audio/train/paB2pg9pB98/paB2pg9pB98_0067.wav\n",
    "/data/sls/scratch/roudi/datasets/muavic/muavic/ru/audio/train/WaExIHbpQXs/WaExIHbpQXs_0021.wav\n",
    "/data/sls/scratch/roudi/datasets/muavic/muavic/en/audio/train/S0hxl03JoA0/00026_5.wav\n",
    "/data/sls/scratch/roudi/datasets/muavic/muavic/ar/audio/train/mPGJb1GYcjM/mPGJb1GYcjM_0031.wav\n",
    "/data/sls/scratch/roudi/datasets/muavic/muavic/de/audio/train/V-urvHlqGkE/V-urvHlqGkE_0016.wav"
   ]
  },
  {
   "cell_type": "code",
   "execution_count": null,
   "metadata": {},
   "outputs": [],
   "source": []
  }
 ],
 "metadata": {
  "kernelspec": {
   "display_name": "muavic",
   "language": "python",
   "name": "python3"
  },
  "language_info": {
   "codemirror_mode": {
    "name": "ipython",
    "version": 3
   },
   "file_extension": ".py",
   "mimetype": "text/x-python",
   "name": "python",
   "nbconvert_exporter": "python",
   "pygments_lexer": "ipython3",
   "version": "3.9.19"
  }
 },
 "nbformat": 4,
 "nbformat_minor": 2
}
